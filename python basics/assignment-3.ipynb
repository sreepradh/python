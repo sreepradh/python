{
 "cells": [
  {
   "cell_type": "code",
   "execution_count": 1,
   "id": "df155fc0",
   "metadata": {},
   "outputs": [],
   "source": [
    "# 1.Why are functions advantageous to have in your programs?\n",
    "\n",
    "# Functions helps us to reduce the need to duplicate the code.The main advantage of function is code Reusability by calling the functions."
   ]
  },
  {
   "cell_type": "code",
   "execution_count": 2,
   "id": "aa654b72",
   "metadata": {},
   "outputs": [],
   "source": [
    "# 2. When does the code in a function run: when it's specified or when it's called?\n",
    "\n",
    "# The code in the function runs when it is called."
   ]
  },
  {
   "cell_type": "code",
   "execution_count": 3,
   "id": "46da57ab",
   "metadata": {},
   "outputs": [],
   "source": [
    "# 3. What statement creates a function?\n",
    "\n",
    "# def statement creates a function."
   ]
  },
  {
   "cell_type": "code",
   "execution_count": 4,
   "id": "e6f486bc",
   "metadata": {},
   "outputs": [],
   "source": [
    "# 4. What is the difference between a function and a function call?\n",
    "\n",
    "# A function is procedure to get a particular result and using a function to do a particular task at any point in program is called as function call."
   ]
  },
  {
   "cell_type": "code",
   "execution_count": 5,
   "id": "ced37ea1",
   "metadata": {},
   "outputs": [],
   "source": [
    "# 5. How many global scopes are there in a Python program? How many local scopes?\n",
    "\n",
    "# There is one global scope, and a local scope is created whenever a function is called.\n"
   ]
  },
  {
   "cell_type": "code",
   "execution_count": 6,
   "id": "30172d8b",
   "metadata": {},
   "outputs": [],
   "source": [
    "# 6.What happens to variables in a local scope when the function call returns?\n",
    "\n",
    "# When a function returns, the local scope is destroyed, and all the variables in it are forgotten."
   ]
  },
  {
   "cell_type": "code",
   "execution_count": 7,
   "id": "f5d9dd95",
   "metadata": {},
   "outputs": [],
   "source": [
    "# 7. What is the concept of a return value? Is it possible to have a return value in an expression?\n",
    "\n",
    "# A return value is that a function returns to the calling  function when it completes its task. Like any value, a return value can be used as part of an expression.\n"
   ]
  },
  {
   "cell_type": "code",
   "execution_count": 8,
   "id": "3b0a084a",
   "metadata": {},
   "outputs": [],
   "source": [
    "# 8. If a function does not have a return statement, what is the return value of a call to that function?\n",
    "\n",
    "# If there is no return statement for a function, its return value is None."
   ]
  },
  {
   "cell_type": "code",
   "execution_count": 9,
   "id": "6907b3c4",
   "metadata": {},
   "outputs": [],
   "source": [
    "# 9. How do you make a function variable refer to the global variable?\n",
    "\n",
    "# If you want to refer to a global variable in a function, you can use the global keyword to declare which variables are global or you can declare a variable outside the function."
   ]
  },
  {
   "cell_type": "code",
   "execution_count": 10,
   "id": "c3039c43",
   "metadata": {},
   "outputs": [],
   "source": [
    "# 10. What is the data type of None?\n",
    "\n",
    "# NoneType."
   ]
  },
  {
   "cell_type": "code",
   "execution_count": 11,
   "id": "4c42433e",
   "metadata": {},
   "outputs": [],
   "source": [
    "# 11. What does the sentence import areallyourpetsnamederic do?\n",
    "\n",
    "# Imports a module named areallyourpetsnamederic."
   ]
  },
  {
   "cell_type": "code",
   "execution_count": 12,
   "id": "b06143e2",
   "metadata": {},
   "outputs": [],
   "source": [
    "# 12. If you had a bacon() feature in a spam module, what would you call it after importing spam?\n",
    "\n",
    "# spam.bacon()."
   ]
  },
  {
   "cell_type": "code",
   "execution_count": 13,
   "id": "613b008d",
   "metadata": {},
   "outputs": [],
   "source": [
    "# 13. What can you do to save a programme from crashing if it encounters an error?\n",
    "\n",
    "# Place the line of code that might cause an error in a try clause and use except block to handle the error.\n"
   ]
  },
  {
   "cell_type": "code",
   "execution_count": 14,
   "id": "4843bda3",
   "metadata": {},
   "outputs": [],
   "source": [
    "# 14.  What is the purpose of the try clause? What is the purpose of the except clause?\n",
    "\n",
    "# The code that causes an error goes in the try clause and the code that executes if an error happens goes in the except clause."
   ]
  }
 ],
 "metadata": {
  "kernelspec": {
   "display_name": "Python 3 (ipykernel)",
   "language": "python",
   "name": "python3"
  },
  "language_info": {
   "codemirror_mode": {
    "name": "ipython",
    "version": 3
   },
   "file_extension": ".py",
   "mimetype": "text/x-python",
   "name": "python",
   "nbconvert_exporter": "python",
   "pygments_lexer": "ipython3",
   "version": "3.9.7"
  }
 },
 "nbformat": 4,
 "nbformat_minor": 5
}
