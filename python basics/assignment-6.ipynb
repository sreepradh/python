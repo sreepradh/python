{
 "cells": [
  {
   "cell_type": "code",
   "execution_count": 1,
   "id": "fc157415",
   "metadata": {},
   "outputs": [],
   "source": [
    "# 1.What are Escape characters ? and how do you use them ?\n",
    " \n",
    "#Escape characters represent characters in string values that would otherwise be difficult or impossible to type into code.\n",
    "#example: \\t, \\n"
   ]
  },
  {
   "cell_type": "code",
   "execution_count": 2,
   "id": "5abb7601",
   "metadata": {},
   "outputs": [],
   "source": [
    "#2.What do the escape characters n and t stand for ?\n",
    "\n",
    "# \\n is a newline, \\t is a tab"
   ]
  },
  {
   "cell_type": "code",
   "execution_count": 3,
   "id": "04a314fc",
   "metadata": {},
   "outputs": [],
   "source": [
    "# 3.What is the way to include backslash character in a string?\n",
    "\n",
    "# The \\\\ escape character will represent the backslash character in a string"
   ]
  },
  {
   "cell_type": "code",
   "execution_count": 4,
   "id": "b4a64b20",
   "metadata": {},
   "outputs": [],
   "source": [
    "# 4.The string \"Howl's Moving Castle\" is a correct value. Why isn't the single quote character in the word Howl's not escaped a problem ?\n",
    "\n",
    "# The string \"Howl's Moving Castle\" escaped the problem because it is wrapped inside double quotes. if its wrapped inside single quotes then we have to use escape character \\' to show single quote in the final output\n",
    "# 'Howl\\'s Moving Castle' -> 'Howl's Moving Castle'"
   ]
  },
  {
   "cell_type": "code",
   "execution_count": 19,
   "id": "2c0e014e",
   "metadata": {},
   "outputs": [
    {
     "name": "stdout",
     "output_type": "stream",
     "text": [
      "How are you\n"
     ]
    }
   ],
   "source": [
    "# 5.How do you write a string of newlines if you don't want to use the n character?\n",
    "\n",
    "# Multiline string\n",
    "\n",
    "# Example:\n",
    "a = '''How are you'''\n",
    "print(a)"
   ]
  },
  {
   "cell_type": "code",
   "execution_count": null,
   "id": "c4ebe9e4",
   "metadata": {},
   "outputs": [],
   "source": []
  },
  {
   "cell_type": "code",
   "execution_count": 12,
   "id": "d620846b",
   "metadata": {},
   "outputs": [
    {
     "name": "stdout",
     "output_type": "stream",
     "text": [
      "e\n",
      "Hello\n",
      "Hello\n",
      "lo, world!\n"
     ]
    }
   ],
   "source": [
    "# 6.What are the values of the given expressions ?\n",
    "print('Hello, world!'[1])\n",
    "print('Hello, world!'[0:5])\n",
    "print('Hello, world!'[:5])\n",
    "print('Hello, world!'[3:])\n"
   ]
  },
  {
   "cell_type": "code",
   "execution_count": 15,
   "id": "88c0632d",
   "metadata": {},
   "outputs": [
    {
     "name": "stdout",
     "output_type": "stream",
     "text": [
      "HELLO\n",
      "True\n",
      "hello\n"
     ]
    }
   ],
   "source": [
    "# 7.What are the values of the following expressions ?\n",
    "print('Hello'.upper())\n",
    "print('Hello'.upper().isupper())\n",
    "print('Hello'.upper().lower())"
   ]
  },
  {
   "cell_type": "code",
   "execution_count": 21,
   "id": "e24ceae1",
   "metadata": {},
   "outputs": [
    {
     "name": "stdout",
     "output_type": "stream",
     "text": [
      "['Remember,', 'remember,', 'the', 'fifith', 'of', 'July.']\n",
      "There-can-only-one\n"
     ]
    }
   ],
   "source": [
    "# 8.What are the values of the following expressions ?\n",
    "# 'Remember, remember, the fifith of July.'.split()\n",
    "# -'.join('There can only one'.split())\n",
    "\n",
    "print('Remember, remember, the fifith of July.'.split())\n",
    "print('-'.join('There can only one'.split()))"
   ]
  },
  {
   "cell_type": "code",
   "execution_count": 18,
   "id": "596871a7",
   "metadata": {},
   "outputs": [],
   "source": [
    "# 9.What are the methods for right-justifying, left-justifying and centering a string ?\n",
    "\n",
    "# The rjust(),ljust(),center() string methods, respectively"
   ]
  },
  {
   "cell_type": "code",
   "execution_count": null,
   "id": "68452c79",
   "metadata": {},
   "outputs": [],
   "source": [
    "# 10.What is the best way to remove whitespace characters from the start or end ?\n",
    "\n",
    "# The lstrip() and rstrip() methods remove whitesapce characters from the left and right ends of a string respectively"
   ]
  }
 ],
 "metadata": {
  "kernelspec": {
   "display_name": "Python 3 (ipykernel)",
   "language": "python",
   "name": "python3"
  },
  "language_info": {
   "codemirror_mode": {
    "name": "ipython",
    "version": 3
   },
   "file_extension": ".py",
   "mimetype": "text/x-python",
   "name": "python",
   "nbconvert_exporter": "python",
   "pygments_lexer": "ipython3",
   "version": "3.9.7"
  }
 },
 "nbformat": 4,
 "nbformat_minor": 5
}
