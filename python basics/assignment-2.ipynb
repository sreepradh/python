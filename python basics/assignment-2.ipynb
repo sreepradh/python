{
 "cells": [
  {
   "cell_type": "markdown",
   "id": "64bab870",
   "metadata": {},
   "source": []
  },
  {
   "cell_type": "markdown",
   "id": "cc9fd539",
   "metadata": {},
   "source": [
    "1. What are the two values of the Boolean data type? How do you write them?\n",
    "\n",
    "True - 1\n",
    "False - 0"
   ]
  },
  {
   "cell_type": "markdown",
   "id": "e9051b74",
   "metadata": {},
   "source": [
    "2. What are the three different types of Boolean operators?\n",
    "\n",
    "AND, OR, NOT"
   ]
  },
  {
   "cell_type": "markdown",
   "id": "326cd007",
   "metadata": {},
   "source": [
    "3. Make a list of each Boolean operator'S truth tables (i.e. every possible combination of Boolean values for the operator and what it evaluate ).\n",
    "\n",
    "\n",
    "#### True is 1 and False is 0\n",
    "#### Truth Table for AND\n",
    "#### A B output\n",
    "#### 0 0 0\n",
    "#### 0 1 0\n",
    "#### 1 0 0\n",
    "#### 1 1 1\n",
    "\n",
    "#### True and True is True.\n",
    "\n",
    "#### True and False is False.\n",
    "\n",
    "#### False and True is False.\n",
    "\n",
    "#### False and False is False.\n",
    "\n",
    "\n",
    "#### Truth Table for OR\n",
    "#### A B output\n",
    "#### 0 0 0\n",
    "#### 0 1 1\n",
    "#### 1 0 1\n",
    "#### 1 1 1\n",
    "\n",
    "#### True or True is True.\n",
    "\n",
    "#### True or False is True.\n",
    "\n",
    "#### False or True is True.\n",
    "\n",
    "#### False or False is False.\n",
    "\n",
    "\n",
    "#### Truth Table for NOT\n",
    "#### A output\n",
    "#### 0 1\n",
    "#### 1 0\n",
    "\n",
    "#### not True is False.\n",
    "\n",
    "#### not False is True.\n",
    "\n",
    "\n"
   ]
  },
  {
   "cell_type": "code",
   "execution_count": 1,
   "id": "c8f77ba2",
   "metadata": {},
   "outputs": [
    {
     "name": "stdout",
     "output_type": "stream",
     "text": [
      "False\n",
      "False\n",
      "True\n",
      "False\n",
      "False\n",
      "True\n"
     ]
    }
   ],
   "source": [
    "# 4. What are the values of the following expressions?\n",
    "\n",
    "print((5 > 4) and (3 == 5))\n",
    "print(not (5 > 4))\n",
    "print((5 > 4) or (3 == 5))\n",
    "print(not ((5 > 4) or (3 == 5)))\n",
    "print((True and True) and (True == False))\n",
    "print((not False) or (not True))"
   ]
  },
  {
   "cell_type": "markdown",
   "id": "01e04e28",
   "metadata": {},
   "source": [
    "# 5. What are the six comparison operators?\n",
    "\n",
    "#### > , < , >= , <= , =! , =="
   ]
  },
  {
   "cell_type": "code",
   "execution_count": 2,
   "id": "dac3bf51",
   "metadata": {},
   "outputs": [
    {
     "name": "stdout",
     "output_type": "stream",
     "text": [
      "False\n",
      "a = 10\n"
     ]
    }
   ],
   "source": [
    "# 6. How do you tell the difference between the equal to and assignment operators?Describe a condition and when you would use one.\n",
    "\n",
    "#### == is the equal to operator that compares two values and evaluates to a Boolean, while = is the assignment operator that stores a value in a variable\n",
    "\n",
    "#eg.\n",
    "# Equal To Operator\n",
    "if(1==2):\n",
    "    print(\"True\")\n",
    "else:\n",
    "    print(\"False\")\n",
    "    \n",
    "# Assignment operator\n",
    "a=10\n",
    "print(\"a =\",a)"
   ]
  },
  {
   "cell_type": "code",
   "execution_count": 3,
   "id": "42427b5c",
   "metadata": {},
   "outputs": [
    {
     "name": "stdout",
     "output_type": "stream",
     "text": [
      "ham\n",
      "spam\n",
      "spam\n"
     ]
    }
   ],
   "source": [
    "# Q7. Identify the three blocks in this code:\n",
    "\n",
    "spam = 0\n",
    "if spam == 10:\n",
    "    print('eggs') #Block 1\n",
    "if spam > 5:\n",
    "    print('bacon') #Block 2\n",
    "else:\n",
    "    print('ham') #Block 3\n",
    "    print('spam')\n",
    "    print('spam')"
   ]
  },
  {
   "cell_type": "code",
   "execution_count": 4,
   "id": "29441be5",
   "metadata": {},
   "outputs": [
    {
     "name": "stdout",
     "output_type": "stream",
     "text": [
      "Enter a number1\n",
      "Hello\n"
     ]
    }
   ],
   "source": [
    "# 8. Write code that prints Hello if 1 is stored in spam, prints Howdy if 2 is stored in spam, and printsGreetings! if anything else is stored in spam.\n",
    "\n",
    "spam = int(input('Enter a number'))\n",
    "\n",
    "if spam == 1:\n",
    "    print('Hello')\n",
    "elif spam == 2:\n",
    "    print('Howdy')\n",
    "else:\n",
    "    print('Greetings!')\n",
    "    "
   ]
  },
  {
   "cell_type": "markdown",
   "id": "4613249d",
   "metadata": {},
   "source": [
    "9.If your programme is stuck in an endless loop, what keys you’ll press?\n",
    "\n",
    "ctrl + c"
   ]
  },
  {
   "cell_type": "markdown",
   "id": "999a0049",
   "metadata": {},
   "source": [
    "10. How can you tell the difference between break and continue?\n",
    "\n",
    "The break statement will move the execution outside the loop if break condtion is satisfied. Whereas the continue statement will move the execution to the start of the loop."
   ]
  },
  {
   "cell_type": "markdown",
   "id": "8123e481",
   "metadata": {},
   "source": [
    "11. In a for loop, what is the difference between range(10), range(0, 10), and range(0, 10, 1)?\n",
    "\n",
    "There are three ways you can call range() : \n",
    "\n",
    "### range(stop) takes one argument.\n",
    "### range(10)\n",
    "\n",
    "When user call range() with one argument, user will get a series of numbers that starts at 0 and includes every whole number up to, but not including, the number that user have provided as the stop.\n",
    "\n",
    "### range(start, stop) takes two arguments.\n",
    "### range(0,10)\n",
    "\n",
    "When user call range() with two arguments, user get to decide not only where the series of numbers stops but also where it starts, so user don’t have to start at 0 all the time. \n",
    "\n",
    "### range(start, stop, step) takes three arguments.\n",
    "### range(0,10,1)\n",
    "\n",
    "When the user call range() with three arguments, the user can choose not only where the series of numbers will start and stop but also how big the difference will be between one number and the next. If the user doesn’t provide a step, then range() will automatically behave as if the step is 1. \n",
    "\n",
    "\n",
    "\n"
   ]
  },
  {
   "cell_type": "code",
   "execution_count": 7,
   "id": "9590724d",
   "metadata": {},
   "outputs": [
    {
     "name": "stdout",
     "output_type": "stream",
     "text": [
      "Using for loop\n",
      "1 2 3 4 5 6 7 8 9 10 \n",
      "\n",
      "Using while loop\n",
      "1 2 3 4 5 6 7 8 9 10 \n",
      "\n"
     ]
    }
   ],
   "source": [
    "# 12. Write a short program that prints the numbers 1 to 10 using a for loop. Then write an equivalentprogram that prints the numbers 1 to 10 using a while loop.\n",
    "\n",
    "print(\"Using for loop\")\n",
    "for i in range (1,11):\n",
    "    print(i, end= \" \")\n",
    "print('\\n')\n",
    "\n",
    "print(\"Using while loop\")\n",
    "i = 1\n",
    "while i<=10:\n",
    "    print(i, end = \" \")\n",
    "    i+=1\n",
    "print('\\n')"
   ]
  },
  {
   "cell_type": "markdown",
   "id": "e4312c4c",
   "metadata": {},
   "source": [
    "13. If you had a function named bacon() inside a module named spam, how would you call it after\n",
    "importing spam?\n",
    "\n",
    "The function can be called as spam.bacon()\n",
    "    "
   ]
  },
  {
   "cell_type": "code",
   "execution_count": null,
   "id": "f743d451",
   "metadata": {},
   "outputs": [],
   "source": []
  }
 ],
 "metadata": {
  "kernelspec": {
   "display_name": "Python 3 (ipykernel)",
   "language": "python",
   "name": "python3"
  },
  "language_info": {
   "codemirror_mode": {
    "name": "ipython",
    "version": 3
   },
   "file_extension": ".py",
   "mimetype": "text/x-python",
   "name": "python",
   "nbconvert_exporter": "python",
   "pygments_lexer": "ipython3",
   "version": "3.9.7"
  }
 },
 "nbformat": 4,
 "nbformat_minor": 5
}
