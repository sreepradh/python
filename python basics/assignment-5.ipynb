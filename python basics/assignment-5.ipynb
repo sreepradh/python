{
 "cells": [
  {
   "cell_type": "code",
   "execution_count": 1,
   "id": "eeea5068",
   "metadata": {},
   "outputs": [],
   "source": [
    "# 1. What does an empty dictionary's code look like?\n",
    "\n",
    "dict = {}"
   ]
  },
  {
   "cell_type": "code",
   "execution_count": 4,
   "id": "77b1f9c9",
   "metadata": {},
   "outputs": [
    {
     "data": {
      "text/plain": [
       "dict_values([42])"
      ]
     },
     "execution_count": 4,
     "metadata": {},
     "output_type": "execute_result"
    }
   ],
   "source": [
    "# 2. What is the value of a dictionary value with the key 'foo' and the value 42?\n",
    "\n",
    "dict  = {'foo': 42}\n",
    "dict.values()"
   ]
  },
  {
   "cell_type": "code",
   "execution_count": 5,
   "id": "e9cadfc8",
   "metadata": {},
   "outputs": [],
   "source": [
    "# 3. What is the most significant distinction between a dictionary and a list?\n",
    "\n",
    "# The main difference is that items in dictionaries are accessed via keys and not with their position."
   ]
  },
  {
   "cell_type": "code",
   "execution_count": 6,
   "id": "4fd739b5",
   "metadata": {},
   "outputs": [
    {
     "ename": "KeyError",
     "evalue": "'foo'",
     "output_type": "error",
     "traceback": [
      "\u001b[0;31m---------------------------------------------------------------------------\u001b[0m",
      "\u001b[0;31mKeyError\u001b[0m                                  Traceback (most recent call last)",
      "\u001b[0;32m/var/folders/ky/hcs_k8_55wzf9768t86qsygr0000gn/T/ipykernel_45833/164581998.py\u001b[0m in \u001b[0;36m<module>\u001b[0;34m\u001b[0m\n\u001b[1;32m      2\u001b[0m \u001b[0;34m\u001b[0m\u001b[0m\n\u001b[1;32m      3\u001b[0m \u001b[0mspam\u001b[0m \u001b[0;34m=\u001b[0m \u001b[0;34m{\u001b[0m\u001b[0;34m'bar'\u001b[0m\u001b[0;34m:\u001b[0m\u001b[0;36m100\u001b[0m\u001b[0;34m}\u001b[0m\u001b[0;34m\u001b[0m\u001b[0;34m\u001b[0m\u001b[0m\n\u001b[0;32m----> 4\u001b[0;31m \u001b[0mspam\u001b[0m\u001b[0;34m[\u001b[0m\u001b[0;34m'foo'\u001b[0m\u001b[0;34m]\u001b[0m\u001b[0;34m\u001b[0m\u001b[0;34m\u001b[0m\u001b[0m\n\u001b[0m",
      "\u001b[0;31mKeyError\u001b[0m: 'foo'"
     ]
    }
   ],
   "source": [
    "# 4. What happens if you try to access spam['foo'] if spam is {'bar': 100}?\n",
    "\n",
    "spam = {'bar':100}\n",
    "spam['foo'] # we will get key error"
   ]
  },
  {
   "cell_type": "code",
   "execution_count": 7,
   "id": "a36d0f6e",
   "metadata": {},
   "outputs": [],
   "source": [
    "# 5.If a dictionary is stored in spam, what is the difference between the expressions 'cat' in spam and 'cat' in spam.keys()?\n",
    "\n",
    "# No difference. The operator checks a value exists or not."
   ]
  },
  {
   "cell_type": "code",
   "execution_count": 8,
   "id": "bd2133ee",
   "metadata": {},
   "outputs": [],
   "source": [
    "# 6. If a dictionary is stored in spam, what is the difference between the expressions 'cat' in spam and in spam.values()?\n",
    "\n",
    "# 'cat' in spam checks whether there is a 'cat' key in the dictionary, while 'cat' in spam.values() checks whether there is a value 'cat' for one of the keys in spam."
   ]
  },
  {
   "cell_type": "code",
   "execution_count": 12,
   "id": "778e10ca",
   "metadata": {},
   "outputs": [
    {
     "data": {
      "text/plain": [
       "'black'"
      ]
     },
     "execution_count": 12,
     "metadata": {},
     "output_type": "execute_result"
    }
   ],
   "source": [
    "# What is a shortcut for the following code?\n",
    "if 'color' not in spam:\n",
    "    spam['color'] = 'black'\n",
    "    \n",
    "    \n",
    "spam.setdefault('color','black')\n"
   ]
  },
  {
   "cell_type": "code",
   "execution_count": 13,
   "id": "9b555118",
   "metadata": {},
   "outputs": [],
   "source": [
    "# 8. How do you pretty print dictionary values using which module and function?\n",
    "\n",
    "# we can use\n",
    "# Use pprint() to Pretty Print a Dictionary in Python\n",
    "# Use json.dumps() to Pretty Print a Dictionary in Python\n",
    "# Use yaml.dump() to Pretty Print a Dictionary in Python"
   ]
  },
  {
   "cell_type": "code",
   "execution_count": null,
   "id": "b4abfaaf",
   "metadata": {},
   "outputs": [],
   "source": []
  }
 ],
 "metadata": {
  "kernelspec": {
   "display_name": "Python 3 (ipykernel)",
   "language": "python",
   "name": "python3"
  },
  "language_info": {
   "codemirror_mode": {
    "name": "ipython",
    "version": 3
   },
   "file_extension": ".py",
   "mimetype": "text/x-python",
   "name": "python",
   "nbconvert_exporter": "python",
   "pygments_lexer": "ipython3",
   "version": "3.9.7"
  }
 },
 "nbformat": 4,
 "nbformat_minor": 5
}
