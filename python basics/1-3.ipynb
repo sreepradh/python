{
 "cells": [
  {
   "cell_type": "markdown",
   "id": "06cb84b1",
   "metadata": {},
   "source": [
    "# 1. In the below elements which of them are values or an expression? eg:- values can be integer or string and expressions will be mathematical operators.\n",
    "\n",
    "'*' is an expression\n",
    "\n",
    "'hello' is an string values\n",
    "\n",
    "-87.8 is an float values\n",
    "\n",
    "'-' is an expression\n",
    "\n",
    "/ is an expression\n",
    "\n",
    "'+' is an expression"
   ]
  },
  {
   "cell_type": "markdown",
   "id": "b3870560",
   "metadata": {},
   "source": [
    "# 2. What is the difference between string and variable?\n",
    "\n",
    "A string is a letter, word or a sentence where as variables are used to store the values."
   ]
  },
  {
   "cell_type": "markdown",
   "id": "56d214a7",
   "metadata": {},
   "source": [
    "# 3.Describe three different data types.\n",
    "\n",
    "integer, float, boolean\n",
    "\n",
    "int is a whole number which can be positive,negative or zero.\n",
    "\n",
    "float is a decimal numbers which can also be postive , negative or zero\n",
    "\n",
    "boolean is used to represent true or flase values."
   ]
  },
  {
   "cell_type": "markdown",
   "id": "86bb8f69",
   "metadata": {},
   "source": [
    "# 4. What is an expression made up of? What do all expressions do?\n",
    "\n",
    "An expression is a combination of operators and operands that is interpreted to produce some other value. In any programming language, an expression is evaluated as per the precedence of its operators."
   ]
  },
  {
   "cell_type": "markdown",
   "id": "1c478fe0",
   "metadata": {},
   "source": [
    "# 5. This assignment statements, like spam = 10. What is the difference between an expression and a statement?\n",
    "\n",
    "Expression is made up of values, containers, and mathematical operators and the statement is just like a command that a python interpreter executes like print statement"
   ]
  },
  {
   "cell_type": "markdown",
   "id": "d04b142b",
   "metadata": {},
   "source": [
    "# 6. After running the following code, what does the variable bacon contain?\n",
    "# bacon = 22\n",
    "# bacon + 1\n",
    "\n",
    "bacon = 23"
   ]
  },
  {
   "cell_type": "markdown",
   "id": "2633932a",
   "metadata": {},
   "source": [
    "# 7. What should the values of the following two terms be?\n",
    "\n",
    "'spam' + 'spamspam' = 'spamspamspam'\n",
    "\n",
    "'spam'*3 = 'spamspamspam'\n",
    "\n",
    "\n"
   ]
  },
  {
   "cell_type": "markdown",
   "id": "9ef00289",
   "metadata": {},
   "source": [
    "# 8. Why is eggs a valid variable name while 100 is invalid?\n",
    "\n",
    "because variable name cannot begin with numbers"
   ]
  },
  {
   "cell_type": "markdown",
   "id": "f8f42b11",
   "metadata": {},
   "source": [
    "# 9. What three functions can be used to get the integer, floating-point number, or stringversion of a value ?\n",
    "\n",
    "int(),float(),str()\n",
    "\n"
   ]
  },
  {
   "cell_type": "markdown",
   "id": "22cff26f",
   "metadata": {},
   "source": [
    "# 10.Why does this expression cause an error? How can you fix it?\n",
    "\n",
    "can only concatenate str (not \"int\") to str.\n"
   ]
  },
  {
   "cell_type": "code",
   "execution_count": null,
   "id": "3d650935",
   "metadata": {},
   "outputs": [],
   "source": []
  }
 ],
 "metadata": {
  "kernelspec": {
   "display_name": "Python 3 (ipykernel)",
   "language": "python",
   "name": "python3"
  },
  "language_info": {
   "codemirror_mode": {
    "name": "ipython",
    "version": 3
   },
   "file_extension": ".py",
   "mimetype": "text/x-python",
   "name": "python",
   "nbconvert_exporter": "python",
   "pygments_lexer": "ipython3",
   "version": "3.9.7"
  }
 },
 "nbformat": 4,
 "nbformat_minor": 5
}
