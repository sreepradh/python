{
 "cells": [
  {
   "cell_type": "raw",
   "id": "4ab4f45d",
   "metadata": {},
   "source": [
    "1.What exactly is []?\n",
    "\n",
    "empty list"
   ]
  },
  {
   "cell_type": "code",
   "execution_count": 2,
   "id": "d4d7b381",
   "metadata": {},
   "outputs": [
    {
     "data": {
      "text/plain": [
       "[2, 4, 'hello', 8, 10]"
      ]
     },
     "execution_count": 2,
     "metadata": {},
     "output_type": "execute_result"
    }
   ],
   "source": [
    "# 2.In a list of values stored in a variable called spam, how would you assign the value 'hello' as the third value? (Assume [2, 4, 6, 8, 10] are in spam.)\n",
    "\n",
    "spam = [2,4,6,8,10]\n",
    "spam[2] = 'hello'\n",
    "spam"
   ]
  },
  {
   "cell_type": "markdown",
   "id": "2cb1e227",
   "metadata": {},
   "source": [
    "## Let's pretend the spam includes the list ['a','b','c','d'] for the next three queries."
   ]
  },
  {
   "cell_type": "code",
   "execution_count": 14,
   "id": "87d10690",
   "metadata": {},
   "outputs": [
    {
     "data": {
      "text/plain": [
       "'d'"
      ]
     },
     "execution_count": 14,
     "metadata": {},
     "output_type": "execute_result"
    }
   ],
   "source": [
    "spam = ['a','b','c','d']\n",
    "\n",
    "# 3. What is the value of spam[int(int('3'*2)/11)]?\n",
    "spam[int(int('3'*2)/11)]"
   ]
  },
  {
   "cell_type": "code",
   "execution_count": 7,
   "id": "108f80d9",
   "metadata": {},
   "outputs": [
    {
     "data": {
      "text/plain": [
       "'d'"
      ]
     },
     "execution_count": 7,
     "metadata": {},
     "output_type": "execute_result"
    }
   ],
   "source": [
    "spam = ['a','b','c','d']\n",
    "\n",
    "# 4. What is the value of spam[-1] ?\n",
    "spam[-1]"
   ]
  },
  {
   "cell_type": "code",
   "execution_count": 24,
   "id": "0961cb8e",
   "metadata": {},
   "outputs": [
    {
     "data": {
      "text/plain": [
       "['a', 'b']"
      ]
     },
     "execution_count": 24,
     "metadata": {},
     "output_type": "execute_result"
    }
   ],
   "source": [
    "spam = ['a','b','c','d']\n",
    "\n",
    "# 5. What is the value of spam[:2] ?\n",
    "spam[:2]"
   ]
  },
  {
   "cell_type": "markdown",
   "id": "aff83688",
   "metadata": {},
   "source": [
    "## Let&#39;s pretend bacon has the list [3.14, 'cat', 11,'cat',True ] for the next three questions."
   ]
  },
  {
   "cell_type": "code",
   "execution_count": 30,
   "id": "f44e86fa",
   "metadata": {},
   "outputs": [
    {
     "data": {
      "text/plain": [
       "1"
      ]
     },
     "execution_count": 30,
     "metadata": {},
     "output_type": "execute_result"
    }
   ],
   "source": [
    "bacon = [3.14, 'cat', 11,'cat',True ]\n",
    "\n",
    "# 6. What is the value of bacon.index('cat')?\n",
    "\n",
    "bacon.index('cat')"
   ]
  },
  {
   "cell_type": "code",
   "execution_count": 32,
   "id": "57e8ed15",
   "metadata": {},
   "outputs": [
    {
     "data": {
      "text/plain": [
       "[3.14, 'cat', 11, 'cat', True, 99]"
      ]
     },
     "execution_count": 32,
     "metadata": {},
     "output_type": "execute_result"
    }
   ],
   "source": [
    "# 7. How does bacon.append(99) change the look of the list value in bacon?\n",
    "\n",
    "bacon = [3.14, 'cat', 11,'cat',True ]\n",
    "bacon.append(99)\n",
    "bacon"
   ]
  },
  {
   "cell_type": "code",
   "execution_count": 33,
   "id": "490a62a4",
   "metadata": {},
   "outputs": [
    {
     "data": {
      "text/plain": [
       "[3.14, 11, 'cat', True]"
      ]
     },
     "execution_count": 33,
     "metadata": {},
     "output_type": "execute_result"
    }
   ],
   "source": [
    "# 8. How does bacon.remove('cat') change the look of the list in bacon?\n",
    "\n",
    "bacon = [3.14, 'cat', 11,'cat',True ]\n",
    "bacon.remove('cat')\n",
    "bacon"
   ]
  },
  {
   "cell_type": "code",
   "execution_count": 35,
   "id": "b4bf40c8",
   "metadata": {},
   "outputs": [
    {
     "name": "stdout",
     "output_type": "stream",
     "text": [
      "['ML', 'DL', 'AI', 'CV', 'NLP', 1, 2, 3, 4, 5]\n",
      "[1, 2, 3, 4, 5, 1, 2, 3, 4, 5]\n"
     ]
    }
   ],
   "source": [
    "# 9. What are the list concatenation and list replication operators?\n",
    "\n",
    "list_1 = ['ML','DL','AI','CV','NLP']\n",
    "list_2 = [1,2,3,4,5]\n",
    "print(list_1 + list_2) # List Concatenation\n",
    "print(list_2*2) # List Replication\n"
   ]
  },
  {
   "cell_type": "code",
   "execution_count": 37,
   "id": "7831440f",
   "metadata": {},
   "outputs": [
    {
     "name": "stdout",
     "output_type": "stream",
     "text": [
      "[1, 2, 3, 4, 5, 6]\n",
      "[1, 2, 3, 4, 5, 6, 5]\n"
     ]
    }
   ],
   "source": [
    "# 10.What is difference between the list methods append() and insert()?\n",
    "\n",
    "list_1 = [1,2,3,4,5]\n",
    "list_1.append(6)\n",
    "print(list_1)# List method append\n",
    "list_1.insert(6,5)\n",
    "print(list_1) # List insert\n",
    "\n",
    "## List append method will add the value at the end of the list, insert() can add value at specified location."
   ]
  },
  {
   "cell_type": "raw",
   "id": "f4beebb8",
   "metadata": {},
   "source": [
    "11. What are the two methods for removing items from a list?\n",
    "\n",
    "The del statement and the remove() method are two ways to remove values from a list"
   ]
  },
  {
   "cell_type": "raw",
   "id": "a797e620",
   "metadata": {},
   "source": [
    "12. Describe how list values and string values are identical.\n",
    "\n",
    "Both lists and strings can be passed to len() function, have indexes and slices, be used in for loops, be concatenated or replicated, and be used with the in and not in operators. The only difference is that list are mutable and strings are immutable."
   ]
  },
  {
   "cell_type": "raw",
   "id": "b479190b",
   "metadata": {},
   "source": [
    "13. What's the difference between tuples and lists?\n",
    "\n",
    "Lists are Mutable, Indexable and Slicable. they can have values added, removed, or changed. Tuples are Immutable but Indexable and Slicable. The tuple values cannot be changed at all and they are represented using parentheses (), while lists use the square brackets []."
   ]
  },
  {
   "cell_type": "code",
   "execution_count": 39,
   "id": "5735bd80",
   "metadata": {},
   "outputs": [
    {
     "name": "stdout",
     "output_type": "stream",
     "text": [
      "<class 'int'>\n",
      "<class 'tuple'>\n"
     ]
    }
   ],
   "source": [
    " # 14. How do you type a tuple value that only contains the integer 42?\n",
    "\n",
    "tup1=(9)\n",
    "tup2=(9,) # comma is mandatory otherwise it is considered as int\n",
    "print(type(tup1))\n",
    "print(type(tup2))\n"
   ]
  },
  {
   "cell_type": "raw",
   "id": "28a14838",
   "metadata": {},
   "source": [
    " 15. How do you get a list value's tuple form? How do you get a tuple value's list form?\n",
    " \n",
    "The tuple() and list() functions, respectively are used to convert a list to tuple and vice versa"
   ]
  },
  {
   "cell_type": "raw",
   "id": "027b4472",
   "metadata": {},
   "source": [
    "16. Variables that 'contain' list values are not necessarily lists themselves. Instead, what do they contain?\n",
    "\n",
    "They contain references to list values"
   ]
  },
  {
   "cell_type": "raw",
   "id": "96966e19",
   "metadata": {},
   "source": [
    "17. How do you distinguish between copy.copy() and copy.deepcopy()?\n",
    "\n",
    " The copy.copy() function will do a shallow copy of a list, while the copy.deepcopy() function will do a deep copy of a list. That is, only copy.deepcopy() will duplicate any lists inside the list."
   ]
  },
  {
   "cell_type": "code",
   "execution_count": null,
   "id": "c23154f3",
   "metadata": {},
   "outputs": [],
   "source": []
  },
  {
   "cell_type": "code",
   "execution_count": null,
   "id": "7b2a358a",
   "metadata": {},
   "outputs": [],
   "source": []
  }
 ],
 "metadata": {
  "kernelspec": {
   "display_name": "Python 3 (ipykernel)",
   "language": "python",
   "name": "python3"
  },
  "language_info": {
   "codemirror_mode": {
    "name": "ipython",
    "version": 3
   },
   "file_extension": ".py",
   "mimetype": "text/x-python",
   "name": "python",
   "nbconvert_exporter": "python",
   "pygments_lexer": "ipython3",
   "version": "3.9.7"
  }
 },
 "nbformat": 4,
 "nbformat_minor": 5
}
