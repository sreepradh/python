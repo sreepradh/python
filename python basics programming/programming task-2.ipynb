{
 "cells": [
  {
   "cell_type": "code",
   "execution_count": 1,
   "id": "9f6b1852",
   "metadata": {},
   "outputs": [
    {
     "name": "stdout",
     "output_type": "stream",
     "text": [
      "km :km\n",
      "please enter the value: 6\n",
      "km to miles conversion : 3.7283999999999997 Miles\n"
     ]
    }
   ],
   "source": [
    "# 1.Write a Python program to convert kilometers to miles?\n",
    "i = input('km :' or 'miles :')\n",
    "j = int(input(\"please enter the value: \"))\n",
    "\n",
    "def km_to_miles():\n",
    "    \n",
    "    if i == 'km' :\n",
    "        print('km to miles conversion :',j*0.6214,'Miles')\n",
    "    else:\n",
    "        print('miles to km conversion :',j*1.6093,'KM')\n",
    "km_to_miles()"
   ]
  },
  {
   "cell_type": "code",
   "execution_count": 2,
   "id": "14be7500",
   "metadata": {},
   "outputs": [
    {
     "name": "stdout",
     "output_type": "stream",
     "text": [
      "C or F :C\n",
      "please enter the value: 6\n",
      "Celsius to Fahrenheit conversion : 42.8 °F\n"
     ]
    }
   ],
   "source": [
    "# 2.Write a Python program to convert Celsius to Fahrenheit?\n",
    "i = input('C or F :')\n",
    "j = int(input(\"please enter the value: \"))\n",
    "\n",
    "def C_to_F():\n",
    "    \n",
    "    if i == 'C':\n",
    "        print('Celsius to Fahrenheit conversion :',(j * 9/5) + 32 ,'°F')\n",
    "    else:\n",
    "        print('Fahrenheit to Celsius : ', (j-32) * 5/9, '°C' )\n",
    "C_to_F()"
   ]
  },
  {
   "cell_type": "code",
   "execution_count": 3,
   "id": "0bdcf405",
   "metadata": {},
   "outputs": [
    {
     "name": "stdout",
     "output_type": "stream",
     "text": [
      "Enter the year : 2022\n",
      "                                  2022\n",
      "\n",
      "      January                   February                   March\n",
      "Mo Tu We Th Fr Sa Su      Mo Tu We Th Fr Sa Su      Mo Tu We Th Fr Sa Su\n",
      "                1  2          1  2  3  4  5  6          1  2  3  4  5  6\n",
      " 3  4  5  6  7  8  9       7  8  9 10 11 12 13       7  8  9 10 11 12 13\n",
      "10 11 12 13 14 15 16      14 15 16 17 18 19 20      14 15 16 17 18 19 20\n",
      "17 18 19 20 21 22 23      21 22 23 24 25 26 27      21 22 23 24 25 26 27\n",
      "24 25 26 27 28 29 30      28                        28 29 30 31\n",
      "31\n",
      "\n",
      "       April                      May                       June\n",
      "Mo Tu We Th Fr Sa Su      Mo Tu We Th Fr Sa Su      Mo Tu We Th Fr Sa Su\n",
      "             1  2  3                         1             1  2  3  4  5\n",
      " 4  5  6  7  8  9 10       2  3  4  5  6  7  8       6  7  8  9 10 11 12\n",
      "11 12 13 14 15 16 17       9 10 11 12 13 14 15      13 14 15 16 17 18 19\n",
      "18 19 20 21 22 23 24      16 17 18 19 20 21 22      20 21 22 23 24 25 26\n",
      "25 26 27 28 29 30         23 24 25 26 27 28 29      27 28 29 30\n",
      "                          30 31\n",
      "\n",
      "        July                     August                  September\n",
      "Mo Tu We Th Fr Sa Su      Mo Tu We Th Fr Sa Su      Mo Tu We Th Fr Sa Su\n",
      "             1  2  3       1  2  3  4  5  6  7                1  2  3  4\n",
      " 4  5  6  7  8  9 10       8  9 10 11 12 13 14       5  6  7  8  9 10 11\n",
      "11 12 13 14 15 16 17      15 16 17 18 19 20 21      12 13 14 15 16 17 18\n",
      "18 19 20 21 22 23 24      22 23 24 25 26 27 28      19 20 21 22 23 24 25\n",
      "25 26 27 28 29 30 31      29 30 31                  26 27 28 29 30\n",
      "\n",
      "      October                   November                  December\n",
      "Mo Tu We Th Fr Sa Su      Mo Tu We Th Fr Sa Su      Mo Tu We Th Fr Sa Su\n",
      "                1  2          1  2  3  4  5  6                1  2  3  4\n",
      " 3  4  5  6  7  8  9       7  8  9 10 11 12 13       5  6  7  8  9 10 11\n",
      "10 11 12 13 14 15 16      14 15 16 17 18 19 20      12 13 14 15 16 17 18\n",
      "17 18 19 20 21 22 23      21 22 23 24 25 26 27      19 20 21 22 23 24 25\n",
      "24 25 26 27 28 29 30      28 29 30                  26 27 28 29 30 31\n",
      "31\n",
      "\n"
     ]
    }
   ],
   "source": [
    "# 3. Write a Python program to display calendar?\n",
    "\n",
    "import calendar\n",
    "\n",
    "def showcalender():\n",
    "    year = int(input(\"Enter the year : \"))\n",
    "    print(calendar.calendar(year))\n",
    "showcalender()"
   ]
  },
  {
   "cell_type": "code",
   "execution_count": 4,
   "id": "2855bdff",
   "metadata": {},
   "outputs": [
    {
     "name": "stdout",
     "output_type": "stream",
     "text": [
      "Enter a :2\n",
      "Enter b :4\n",
      "Enter c :6\n",
      "-1.0 +i 5.656854249492381\n",
      "-1.0 -i 5.656854249492381\n",
      "roots are imaginary\n"
     ]
    }
   ],
   "source": [
    "# 4.Write a Python program to solve quadratic equation?\n",
    "\n",
    "import math,cmath\n",
    "\n",
    "def quadraticequation(a,b,c):\n",
    "    \n",
    "    discriminant = b*b - 4*a*c \n",
    "    sqrt_value = math.sqrt(abs(discriminant))\n",
    "    \n",
    "    if discriminant == 0:\n",
    "        print(-b/2*a)\n",
    "        print(\"roots are real\")\n",
    "        \n",
    "    elif discriminant > 0:\n",
    "        r1 = print(-b+sqrt_value/(2*a))\n",
    "        r2 = print(-b+sqrt_value/(2*a))\n",
    "        print(\"roots are real and different\")\n",
    "    \n",
    "    else:\n",
    "        r1 = print(-b/(2*a),'+i',sqrt_value)\n",
    "        r2 = print(-b/(2*a),'-i',sqrt_value)\n",
    "        print(\"roots are imaginary\")\n",
    "\n",
    "a = int(input('Enter a :' ))\n",
    "b = int(input('Enter b :' ))\n",
    "c = int(input('Enter c :' ))\n",
    "        \n",
    "quadraticequation(a,b,c)    "
   ]
  },
  {
   "cell_type": "code",
   "execution_count": 5,
   "id": "797997b5",
   "metadata": {},
   "outputs": [
    {
     "name": "stdout",
     "output_type": "stream",
     "text": [
      "Enter your first number :2\n",
      "Enter your seond number : 4\n"
     ]
    },
    {
     "data": {
      "text/plain": [
       "(4, 2)"
      ]
     },
     "execution_count": 5,
     "metadata": {},
     "output_type": "execute_result"
    }
   ],
   "source": [
    "# 5. Write a Python program to swap two variables without temp variable?\n",
    "\n",
    "num1 = int(input('Enter your first number :'))\n",
    "num2 = int(input(\"Enter your seond number : \"))\n",
    "\n",
    "def swap(num1,num2):\n",
    "    num1 = num1+num2\n",
    "    num2 = num1-num2\n",
    "    num1 = num1 - num2\n",
    "\n",
    "    return num1,num2\n",
    "swap(num1,num2)\n"
   ]
  },
  {
   "cell_type": "code",
   "execution_count": null,
   "id": "7ccbbc4b",
   "metadata": {},
   "outputs": [],
   "source": []
  },
  {
   "cell_type": "code",
   "execution_count": null,
   "id": "e71c31c6",
   "metadata": {},
   "outputs": [],
   "source": []
  }
 ],
 "metadata": {
  "kernelspec": {
   "display_name": "Python 3 (ipykernel)",
   "language": "python",
   "name": "python3"
  },
  "language_info": {
   "codemirror_mode": {
    "name": "ipython",
    "version": 3
   },
   "file_extension": ".py",
   "mimetype": "text/x-python",
   "name": "python",
   "nbconvert_exporter": "python",
   "pygments_lexer": "ipython3",
   "version": "3.9.7"
  }
 },
 "nbformat": 4,
 "nbformat_minor": 5
}
