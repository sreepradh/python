{
 "cells": [
  {
   "cell_type": "code",
   "execution_count": 1,
   "id": "54ea3274",
   "metadata": {},
   "outputs": [
    {
     "name": "stdout",
     "output_type": "stream",
     "text": [
      "please enter a number : 6\n",
      " The Fibonacci squence\n",
      "0\n",
      "1\n",
      "1\n",
      "2\n",
      "3\n",
      "5\n"
     ]
    }
   ],
   "source": [
    "# 1. Write a Python Program to Display Fibonacci Sequence Using Recursion?\n",
    "\n",
    "n = int(input(\"please enter a number : \"))\n",
    "\n",
    "def feb_rec(i):\n",
    "    if i <= 1:\n",
    "        return i\n",
    "    else:\n",
    "        return (feb_rec(i-1)+ feb_rec(i-2))\n",
    "if n <= 0:\n",
    "    print('please enter a positive number')\n",
    "else:\n",
    "    print(f' The Fibonacci squence')\n",
    "    \n",
    "for i in range(n):\n",
    "    print(feb_rec(i))\n"
   ]
  },
  {
   "cell_type": "markdown",
   "id": "a7970615",
   "metadata": {},
   "source": []
  },
  {
   "cell_type": "code",
   "execution_count": 2,
   "id": "f8f426d9",
   "metadata": {},
   "outputs": [
    {
     "name": "stdout",
     "output_type": "stream",
     "text": [
      "please enter a number : 6\n",
      "The Factorial of a number is 720\n"
     ]
    }
   ],
   "source": [
    "# 2. Write a Python Program to Find Factorial of Number Using Recursion?\n",
    "\n",
    "n = int(input(\"please enter a number : \"))\n",
    "\n",
    "def fac_rec(n):\n",
    "    if n == 1:\n",
    "        return n\n",
    "    else:\n",
    "        return n * fac_rec(n-1)\n",
    "    \n",
    "if (n < 0):\n",
    "    print(\"please enter a positive number\")\n",
    "elif (n == 0):\n",
    "    print(\"The factorial of 0 is 1\")   \n",
    "else:\n",
    "    print(f'The Factorial of a number is {fac_rec(n)}')\n",
    "    "
   ]
  },
  {
   "cell_type": "code",
   "execution_count": 3,
   "id": "f9253ce1",
   "metadata": {},
   "outputs": [
    {
     "name": "stdout",
     "output_type": "stream",
     "text": [
      "please enter your weight in kg's : 70\n",
      "please enter your height in m : 1.8\n",
      "Your're BMI is 21.604938271604937 and status is Healthy\n"
     ]
    }
   ],
   "source": [
    "# 3. Write a Python Program to calculate your Body Mass Index?\n",
    "\n",
    "weight = int(input(\"please enter your weight in kg's : \"))\n",
    "height = float(input(\"please enter your height in m : \"))\n",
    "\n",
    "\n",
    "def BMI():\n",
    "    BMI = weight/height ** 2\n",
    "\n",
    "    if (BMI < 18.5):\n",
    "        status = 'Underweight'\n",
    "    elif (BMI >= 18.5 and BMI < 24.9):\n",
    "        status = 'Healthy'\n",
    "    elif (BMI >= 24.9 and BMI < 30):\n",
    "        status = 'Overweight'\n",
    "    elif (BMI >=30):\n",
    "        status = 'Suffering from Obesity'\n",
    "    print(f'Your\\'re BMI is {BMI} and status is {status}')\n",
    "\n",
    "BMI()   \n",
    "    "
   ]
  },
  {
   "cell_type": "code",
   "execution_count": 4,
   "id": "826894b5",
   "metadata": {},
   "outputs": [
    {
     "name": "stdout",
     "output_type": "stream",
     "text": [
      "please enter a number : 6\n",
      "1.791759469228055\n"
     ]
    }
   ],
   "source": [
    "# 4. Write a Python Program to calculate the natural logarithm of any number?\n",
    "\n",
    "import math\n",
    "\n",
    "def log():\n",
    "    num = float(input(\"please enter a number : \"))\n",
    "    print(math.log(num))\n",
    "log ()\n",
    "    "
   ]
  },
  {
   "cell_type": "code",
   "execution_count": 5,
   "id": "3e4103ee",
   "metadata": {},
   "outputs": [
    {
     "name": "stdout",
     "output_type": "stream",
     "text": [
      "please enter a number : 6\n",
      "The cube sum of first 6 natural numbers is 441.0\n"
     ]
    }
   ],
   "source": [
    "# 5. Write a Python Program for cube sum of first n natural numbers?\n",
    "\n",
    "def cube():\n",
    "    num = int(input(\"please enter a number : \")) \n",
    "    x = (num*(num+1)/2)**2\n",
    "    print(f'The cube sum of first {num} natural numbers is {x}')\n",
    "cube()"
   ]
  },
  {
   "cell_type": "code",
   "execution_count": null,
   "id": "91153d09",
   "metadata": {},
   "outputs": [],
   "source": []
  }
 ],
 "metadata": {
  "kernelspec": {
   "display_name": "Python 3 (ipykernel)",
   "language": "python",
   "name": "python3"
  },
  "language_info": {
   "codemirror_mode": {
    "name": "ipython",
    "version": 3
   },
   "file_extension": ".py",
   "mimetype": "text/x-python",
   "name": "python",
   "nbconvert_exporter": "python",
   "pygments_lexer": "ipython3",
   "version": "3.9.7"
  }
 },
 "nbformat": 4,
 "nbformat_minor": 5
}
