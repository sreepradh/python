{
 "cells": [
  {
   "cell_type": "code",
   "execution_count": 1,
   "id": "1b12f012",
   "metadata": {},
   "outputs": [
    {
     "name": "stdout",
     "output_type": "stream",
     "text": [
      "Enter a number : 5\n",
      "The factorial of the 5 is 120\n"
     ]
    }
   ],
   "source": [
    "# 1. Write a Python Program to Find the Factorial of a Number?\n",
    "\n",
    "num = int(input(\"Enter a number : \"))\n",
    "def factorial(num):\n",
    "    if num < 1:\n",
    "        return 1\n",
    "    else:\n",
    "        return num*factorial(num-1)\n",
    "value = factorial(num)\n",
    "print(f'The factorial of the {num} is {value}')"
   ]
  },
  {
   "cell_type": "code",
   "execution_count": 2,
   "id": "43a37d2a",
   "metadata": {},
   "outputs": [
    {
     "name": "stdout",
     "output_type": "stream",
     "text": [
      "Enter a number : 5\n",
      "5 x 1 = 5\n",
      "5 x 2 = 10\n",
      "5 x 3 = 15\n",
      "5 x 4 = 20\n",
      "5 x 5 = 25\n",
      "5 x 6 = 30\n",
      "5 x 7 = 35\n",
      "5 x 8 = 40\n",
      "5 x 9 = 45\n",
      "5 x 10 = 50\n"
     ]
    }
   ],
   "source": [
    "# 2.Write a Python Program to Display the multiplication Table?\n",
    " \n",
    "num = int(input(\"Enter a number : \"))\n",
    "def multiplication(num):\n",
    "    if num < 1:\n",
    "        return 0\n",
    "    else:\n",
    "        for i in range(1,11):\n",
    "            print(num ,'x', i, '=', num * i )\n",
    "            i = i+1\n",
    "multiplication(num)\n",
    "        "
   ]
  },
  {
   "cell_type": "code",
   "execution_count": 3,
   "id": "8e4ca4bd",
   "metadata": {},
   "outputs": [
    {
     "name": "stdout",
     "output_type": "stream",
     "text": [
      "Enter a number : 5\n",
      "The fibonacci series is :  [0, 1, 1, 2, 3, 5]\n"
     ]
    }
   ],
   "source": [
    "# 3. Write a Python Program to Print the Fibonacci sequence?\n",
    "\n",
    "num = int(input(\"Enter a number : \"))\n",
    "init_value = [0,1]\n",
    "\n",
    "def fibonacci(num):\n",
    "    if num > 2:\n",
    "        first_value = 0\n",
    "        second_value = 1\n",
    "        for i in range(1,num):\n",
    "            next_value = first_value + second_value\n",
    "            init_value.append(next_value)\n",
    "            first_value = second_value\n",
    "            second_value = next_value\n",
    "        print(\"The fibonacci series is : \",init_value)\n",
    "fibonacci(num)\n",
    "        \n",
    "        \n",
    "        "
   ]
  },
  {
   "cell_type": "code",
   "execution_count": 4,
   "id": "3ebd0587",
   "metadata": {},
   "outputs": [
    {
     "name": "stdout",
     "output_type": "stream",
     "text": [
      "Enter a number : 5\n",
      "5 is an amstrong number\n"
     ]
    }
   ],
   "source": [
    "# 4. Write a Python Program to Check Armstrong Number?\n",
    "\n",
    "num = int(input(\"Enter a number : \"))\n",
    "\n",
    "def amstrong():\n",
    "    order = len(str(num))\n",
    "    total = 0\n",
    "    temp = num\n",
    "    while temp > 0:\n",
    "        x = temp % 10\n",
    "        total += x ** order\n",
    "        temp //=10 \n",
    "    if num == total:\n",
    "        print(f'{num} is an amstrong number')\n",
    "    else:\n",
    "        print(f'{num} is not an amstrong number')\n",
    "    \n",
    "amstrong()  "
   ]
  },
  {
   "cell_type": "code",
   "execution_count": 5,
   "id": "7eaeb7b1",
   "metadata": {},
   "outputs": [
    {
     "name": "stdout",
     "output_type": "stream",
     "text": [
      "Enter the first number : 5\n",
      "Enter the second number : 50\n",
      "The Armstrong numbers between 5 and 50 are [5, 6, 7, 8, 9]\n"
     ]
    }
   ],
   "source": [
    "# 5. Write a Python Program to Find Armstrong Number in an Interval?\n",
    "def amstrongintervel(num,storage):\n",
    "    order = len(str(num))\n",
    "    total = 0\n",
    "    temp = num\n",
    "    while temp > 0:\n",
    "        x = temp % 10\n",
    "        total += x ** order\n",
    "        temp //=10 \n",
    "    if num == total:\n",
    "        storage.append(int(num))\n",
    "num1 = int(input(\"Enter the first number : \"))\n",
    "num2 = int(input(\"Enter the second number : \"))\n",
    "x = []\n",
    "\n",
    "if num1 > num2:\n",
    "    print(\"num1 cannot be greater than num2\")\n",
    "else:\n",
    "    for i in range(num1,num2+1):\n",
    "        amstrongintervel(i,x)\n",
    "    print(f'The Armstrong numbers between {num1} and {num2} are {x}')  "
   ]
  },
  {
   "cell_type": "code",
   "execution_count": 6,
   "id": "870c369e",
   "metadata": {},
   "outputs": [
    {
     "name": "stdout",
     "output_type": "stream",
     "text": [
      "Enter a number: 5\n"
     ]
    },
    {
     "data": {
      "text/plain": [
       "15.0"
      ]
     },
     "execution_count": 6,
     "metadata": {},
     "output_type": "execute_result"
    }
   ],
   "source": [
    "# 6. Write a Python Program to Find the Sum of Natural Numbers?\n",
    "\n",
    "num = int(input(\"Enter a number: \"))\n",
    "\n",
    "def naturalnumbers():\n",
    "        if num < 0:\n",
    "            print(f'The {num} is not a natural number.')\n",
    "        else:\n",
    "            X = num*((num+1)/2)\n",
    "            return X\n",
    "naturalnumbers()"
   ]
  },
  {
   "cell_type": "code",
   "execution_count": null,
   "id": "5c18a45a",
   "metadata": {},
   "outputs": [],
   "source": []
  },
  {
   "cell_type": "code",
   "execution_count": null,
   "id": "cbfc2c75",
   "metadata": {},
   "outputs": [],
   "source": []
  },
  {
   "cell_type": "code",
   "execution_count": null,
   "id": "53d27da0",
   "metadata": {},
   "outputs": [],
   "source": []
  },
  {
   "cell_type": "code",
   "execution_count": null,
   "id": "16784ba1",
   "metadata": {},
   "outputs": [],
   "source": []
  },
  {
   "cell_type": "code",
   "execution_count": null,
   "id": "8e223736",
   "metadata": {},
   "outputs": [],
   "source": []
  },
  {
   "cell_type": "code",
   "execution_count": null,
   "id": "9ccb9251",
   "metadata": {},
   "outputs": [],
   "source": []
  }
 ],
 "metadata": {
  "kernelspec": {
   "display_name": "Python 3 (ipykernel)",
   "language": "python",
   "name": "python3"
  },
  "language_info": {
   "codemirror_mode": {
    "name": "ipython",
    "version": 3
   },
   "file_extension": ".py",
   "mimetype": "text/x-python",
   "name": "python",
   "nbconvert_exporter": "python",
   "pygments_lexer": "ipython3",
   "version": "3.9.7"
  }
 },
 "nbformat": 4,
 "nbformat_minor": 5
}
