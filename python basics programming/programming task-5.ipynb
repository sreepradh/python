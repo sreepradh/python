{
 "cells": [
  {
   "cell_type": "code",
   "execution_count": 1,
   "id": "ab975035",
   "metadata": {},
   "outputs": [
    {
     "name": "stdout",
     "output_type": "stream",
     "text": [
      "Enter first number : 3\n",
      "Enter second number : 4\n",
      "The LCM of 3 and 4 is 12\n"
     ]
    }
   ],
   "source": [
    "# 1. Write a Python Program to Find LCM?\n",
    "a = int(input('Enter first number : '))\n",
    "b = int(input('Enter second number : '))\n",
    "def lcm(a,b):\n",
    "    if(a > b):\n",
    "        greater = a\n",
    "    else:\n",
    "        greater = b\n",
    "    while(True):\n",
    "        if((greater % a  == 0) and (greater % b == 0)):\n",
    "            lcm = greater\n",
    "            break;\n",
    "        else:\n",
    "            greater = greater+1\n",
    "    print(f'The LCM of {a} and {b} is {lcm}')\n",
    "lcm(a,b)"
   ]
  },
  {
   "cell_type": "code",
   "execution_count": 2,
   "id": "174bcb1a",
   "metadata": {},
   "outputs": [
    {
     "name": "stdout",
     "output_type": "stream",
     "text": [
      "Enter first number : 3\n",
      "Enter second number : 4\n",
      "The HCF of 3 and 4 is 1\n"
     ]
    }
   ],
   "source": [
    "# 2. Write a Python Program to Find HCF?\n",
    "\n",
    "a = int(input('Enter first number : '))\n",
    "b = int(input('Enter second number : '))\n",
    "def hcf(a,b):\n",
    "    if(a > b):\n",
    "        smaller = b\n",
    "    else:\n",
    "        smaller = a\n",
    "    for i in range(1,smaller+1):\n",
    "            if((a % i  == 0) and (b % i == 0)): \n",
    "                hcf = i     \n",
    "    print(f'The HCF of {a} and {b} is {hcf}')\n",
    "    \n",
    "hcf(a,b)"
   ]
  },
  {
   "cell_type": "code",
   "execution_count": 3,
   "id": "5874bcc9",
   "metadata": {},
   "outputs": [
    {
     "name": "stdout",
     "output_type": "stream",
     "text": [
      "Enter a number : 4\n",
      "The decimal value of 4 is :\n",
      "0b100, in binary.\n",
      "0o4, in octal.\n",
      "0x4, in hexadecimal.\n"
     ]
    }
   ],
   "source": [
    "# 3. Write a Python Program to Convert Decimal to Binary, Octal and Hexadecimal?\n",
    "def convert():\n",
    "    a = int(input('Enter a number : '))\n",
    "\n",
    "    print(f'The decimal value of {a} is :')\n",
    "    print(f'{bin(a)}, in binary.')\n",
    "    print(f'{oct(a)}, in octal.')\n",
    "    print(f'{hex(a)}, in hexadecimal.')\n",
    "\n",
    "convert()"
   ]
  },
  {
   "cell_type": "code",
   "execution_count": 4,
   "id": "9e3754d8",
   "metadata": {},
   "outputs": [
    {
     "name": "stdout",
     "output_type": "stream",
     "text": [
      "Enter a character : !\n",
      " The ASCII values of ! is 33\n"
     ]
    }
   ],
   "source": [
    "# 4. Write a Python Program to Find the ASCII value of a Character ?\n",
    "\n",
    "def ASCII():\n",
    "    a = input('Enter a character : ')\n",
    "    if len(a) > 1:\n",
    "        print(\" please enter a sigle digit number.\")\n",
    "    else:\n",
    "        print(f' The ASCII values of {a} is {ord(a)}')\n",
    "ASCII()\n",
    "        \n",
    "    \n",
    "    "
   ]
  },
  {
   "cell_type": "code",
   "execution_count": 5,
   "id": "c200e796",
   "metadata": {},
   "outputs": [
    {
     "name": "stdout",
     "output_type": "stream",
     "text": [
      "Select a Arithmetic Operation:         \n",
      "1.Addition(+)        \n",
      "2.Division(-)        \n",
      "3.Multiplication(*)        \n",
      "4.Division(/)        \n",
      "5.Stop(0)\n",
      "\n",
      "Please enter an operator : /\n",
      "enter your first number : 3\n",
      "enter your second number : 4\n",
      "3/4=0.75\n",
      "\n",
      "Please enter an operator : 0\n",
      "Program stopped\n"
     ]
    }
   ],
   "source": [
    "# 5. Write a Python Program to Make a Simple Calculator with 4 basic mathematical operations?\n",
    "\n",
    "import operator\n",
    "\n",
    "opr = {'+' : operator.add,'-':operator.sub,'*':operator.mul,'/':operator.truediv}\n",
    "print('Select a Arithmetic Operation: \\\n",
    "        \\n1.Addition(+)\\\n",
    "        \\n2.Division(-)\\\n",
    "        \\n3.Multiplication(*)\\\n",
    "        \\n4.Division(/)\\\n",
    "        \\n5.Stop(0)\\n')\n",
    "\n",
    "while True:\n",
    "    operator = input(\"Please enter an operator : \")\n",
    "    if operator == '0':\n",
    "        print(\"Program stopped\")\n",
    "        break\n",
    "    elif operator not in ['+','-','*','/']:\n",
    "        print(\"Please enter the valid operator\")\n",
    "    else:\n",
    "        num1 = int(input(\"enter your first number : \"))\n",
    "        num2 = int(input(\"enter your second number : \"))\n",
    "        print(f'{num1}{operator}{num2}={opr[operator](num1,num2)}\\n')\n"
   ]
  },
  {
   "cell_type": "code",
   "execution_count": null,
   "id": "7887863f",
   "metadata": {},
   "outputs": [],
   "source": []
  }
 ],
 "metadata": {
  "kernelspec": {
   "display_name": "Python 3 (ipykernel)",
   "language": "python",
   "name": "python3"
  },
  "language_info": {
   "codemirror_mode": {
    "name": "ipython",
    "version": 3
   },
   "file_extension": ".py",
   "mimetype": "text/x-python",
   "name": "python",
   "nbconvert_exporter": "python",
   "pygments_lexer": "ipython3",
   "version": "3.9.7"
  }
 },
 "nbformat": 4,
 "nbformat_minor": 5
}
