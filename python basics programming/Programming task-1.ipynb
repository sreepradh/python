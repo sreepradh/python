{
 "cells": [
  {
   "cell_type": "code",
   "execution_count": 1,
   "id": "a19a0636",
   "metadata": {},
   "outputs": [
    {
     "name": "stdout",
     "output_type": "stream",
     "text": [
      "Hello World\n"
     ]
    }
   ],
   "source": [
    "# 1.Write a Python program to print \"Hello Python\"?\n",
    "print(\"Hello World\")"
   ]
  },
  {
   "cell_type": "code",
   "execution_count": 3,
   "id": "844bf98e",
   "metadata": {},
   "outputs": [
    {
     "name": "stdout",
     "output_type": "stream",
     "text": [
      "Enter your first number : 3\n",
      "Enter your second number: 4\n",
      "Enter your arithmatic operation: +\n"
     ]
    },
    {
     "data": {
      "text/plain": [
       "7"
      ]
     },
     "execution_count": 3,
     "metadata": {},
     "output_type": "execute_result"
    }
   ],
   "source": [
    "#2. Write a Python program to do arithmetical operations addition and division.?\n",
    "num1 = int(input(\"Enter your first number : \"))\n",
    "num2 = int(input(\"Enter your second number: \" ))\n",
    "operator = input(\"Enter your arithmatic operation: \")\n",
    "\n",
    "def operations():\n",
    "    \n",
    "    if operator == '+':\n",
    "        addition = num1 + num2\n",
    "        return addition\n",
    "    elif operator == '/':\n",
    "        division = num1 / num2\n",
    "        return division\n",
    "    \n",
    "operations()"
   ]
  },
  {
   "cell_type": "code",
   "execution_count": 4,
   "id": "6a088184",
   "metadata": {},
   "outputs": [
    {
     "name": "stdout",
     "output_type": "stream",
     "text": [
      "Enter the base of the triangle: 3\n",
      "Enter the height of triangle: 4\n"
     ]
    },
    {
     "data": {
      "text/plain": [
       "6.0"
      ]
     },
     "execution_count": 4,
     "metadata": {},
     "output_type": "execute_result"
    }
   ],
   "source": [
    "#3. Write a Python program to find the area of a triangle?\n",
    "base = int(input(\"Enter the base of the triangle: \"))\n",
    "height = int(input(\"Enter the height of triangle: \"))\n",
    "\n",
    "def AreaofTriangle():\n",
    "    return 0.5*base*height\n",
    "AreaofTriangle()"
   ]
  },
  {
   "cell_type": "code",
   "execution_count": 5,
   "id": "43471c35",
   "metadata": {},
   "outputs": [
    {
     "name": "stdout",
     "output_type": "stream",
     "text": [
      "Enter First Number: 4\n",
      "Enter Second Number: 5\n",
      "Before swapping  4 5\n",
      "After swapping  5 4\n"
     ]
    }
   ],
   "source": [
    "#4. Write a Python program to swap two variables?]\n",
    "a = int(input(\"Enter First Number: \"))\n",
    "b = int(input(\"Enter Second Number: \"))\n",
    "\n",
    "\n",
    "def swap(a,b):\n",
    "    temp = a\n",
    "    a = b\n",
    "    b = temp\n",
    "    return a,b\n",
    "\n",
    "print('Before swapping ',a, b)\n",
    "a,b = swap(a, b)\n",
    "print('After swapping ',a,b)\n",
    "\n",
    "   "
   ]
  },
  {
   "cell_type": "code",
   "execution_count": 6,
   "id": "5d11d1a8",
   "metadata": {},
   "outputs": [
    {
     "name": "stdout",
     "output_type": "stream",
     "text": [
      "random number:  421\n"
     ]
    }
   ],
   "source": [
    "# 5.Write a Python program to generate a random number\n",
    "from random import randint\n",
    "\n",
    "def randomnumbergenerator(start = 0,end = 1000):\n",
    "    print('random number: ',randint(start,end)) \n",
    "\n",
    "randomnumbergenerator()"
   ]
  },
  {
   "cell_type": "code",
   "execution_count": null,
   "id": "e1470c41",
   "metadata": {},
   "outputs": [],
   "source": []
  },
  {
   "cell_type": "code",
   "execution_count": null,
   "id": "bcf790d1",
   "metadata": {},
   "outputs": [],
   "source": []
  }
 ],
 "metadata": {
  "kernelspec": {
   "display_name": "Python 3 (ipykernel)",
   "language": "python",
   "name": "python3"
  },
  "language_info": {
   "codemirror_mode": {
    "name": "ipython",
    "version": 3
   },
   "file_extension": ".py",
   "mimetype": "text/x-python",
   "name": "python",
   "nbconvert_exporter": "python",
   "pygments_lexer": "ipython3",
   "version": "3.9.7"
  }
 },
 "nbformat": 4,
 "nbformat_minor": 5
}
